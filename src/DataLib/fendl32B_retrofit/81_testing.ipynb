{
 "cells": [
  {
   "cell_type": "code",
   "execution_count": null,
   "metadata": {},
   "outputs": [],
   "source": [
    "def ensure_gendf_markers(gendf_path, matb):\n",
    "    \"\"\"\n",
    "    Edit the GENDF files produced from an NJOY GROUPR run to include file and\n",
    "    section records that are not automatically written out to the file by\n",
    "    NJOY. Missing these records will not cause errors, but will raise\n",
    "    messages when they are read by ENDFtk, which expects these markers, so\n",
    "    this method ensures that they are present. Edits will only be made if\n",
    "    the SEND record for MF1 or the FEND record for MF3 are not present.\n",
    "    The formatting for these records can be found at:\n",
    "    https://t2.lanl.gov/nis/endf/intro06.html\n",
    "\n",
    "    Arguments:\n",
    "        gendf_path (str): File path to the newly created GENDF file.\n",
    "        matb (int): Unique material ID for the material in the GENDF file.\n",
    "    \n",
    "    Returns:\n",
    "        None\n",
    "    \"\"\"\n",
    "\n",
    "    # In ENDF-6 formatted files, there are 66 characters/columns of whitespace\n",
    "    # before the values in record-keeping lines\n",
    "    whitespace = ' ' * 66\n",
    "\n",
    "    # Define identifiers and corresponding new lines\n",
    "    mf1_identifier = f'{matb} 1451   '\n",
    "    mf3_identifier = f'{matb} 3  099999'\n",
    "    matb = str(matb).zfill(4)\n",
    "    mf1_SEND_RECORD = f'{whitespace}{matb} 1  099999'\n",
    "    mf3_FEND_RECORD = f'{whitespace}{matb} 0  0    0'\n",
    "\n",
    "    with open(gendf_path, 'r') as gendf_file:\n",
    "        file_str = gendf_file.read()\n",
    "    file_lines = file_str.splitlines()\n",
    "\n",
    "    updates = [\n",
    "        (mf3_identifier, mf3_FEND_RECORD),\n",
    "        (mf1_identifier, mf1_SEND_RECORD)\n",
    "    ]\n",
    "\n",
    "    for identifier, new_line in updates:\n",
    "        last_line_index = file_str.rfind(identifier)\n",
    "        line_number = file_str[:last_line_index].count('\\n')\n",
    "        file_lines.insert(line_number + 1, new_line)\n",
    "\n",
    "    new_file_str = '\\n'.join(file_lines) + '\\n'\n",
    "\n",
    "    with open(gendf_path, 'w') as gendf_file:\n",
    "        gendf_file.write(new_file_str)"
   ]
  },
  {
   "cell_type": "code",
   "execution_count": 14,
   "metadata": {},
   "outputs": [
    {
     "data": {
      "text/plain": [
       "True"
      ]
     },
     "execution_count": 14,
     "metadata": {},
     "output_type": "execute_result"
    }
   ],
   "source": [
    "with open('tendl_2017_Fe056.gendf', 'r') as f:\n",
    "    new = f.read()\n",
    "with open('proper.gendf', 'r') as f:\n",
    "    proper = f.read()\n",
    "\n",
    "proper == new"
   ]
  },
  {
   "cell_type": "code",
   "execution_count": null,
   "metadata": {},
   "outputs": [],
   "source": []
  }
 ],
 "metadata": {
  "kernelspec": {
   "display_name": "Python 3",
   "language": "python",
   "name": "python3"
  },
  "language_info": {
   "codemirror_mode": {
    "name": "ipython",
    "version": 3
   },
   "file_extension": ".py",
   "mimetype": "text/x-python",
   "name": "python",
   "nbconvert_exporter": "python",
   "pygments_lexer": "ipython3",
   "version": "3.9.2"
  }
 },
 "nbformat": 4,
 "nbformat_minor": 2
}
